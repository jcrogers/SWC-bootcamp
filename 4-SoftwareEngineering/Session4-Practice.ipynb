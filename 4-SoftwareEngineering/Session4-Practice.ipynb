{
 "metadata": {
  "name": "Session4-Practice"
 }, 
 "nbformat": 2, 
 "worksheets": [
  {
   "cells": [
    {
     "cell_type": "code", 
     "collapsed": false, 
     "input": [
      "ls"
     ], 
     "language": "python", 
     "outputs": [
      {
       "output_type": "stream", 
       "stream": "stdout", 
       "text": [
        "animals.txt      demo.py~              fergus_animals.txt     \u001b[0m\u001b[01;34mTesting\u001b[0m/", 
        "big_animals.txt  dev_notes.rst         macguffin_animals.txt  Untitled0.ipynb", 
        "\u001b[01;34mDebugging\u001b[0m/       dingwall_animals.txt  merida_animals.txt", 
        "demo.py          \u001b[01;34mDocumentation\u001b[0m/        README.rst"
       ]
      }
     ], 
     "prompt_number": 3
    }, 
    {
     "cell_type": "code", 
     "collapsed": false, 
     "input": [
      "import demo"
     ], 
     "language": "python", 
     "outputs": [], 
     "prompt_number": 4
    }, 
    {
     "cell_type": "code", 
     "collapsed": false, 
     "input": [
      "demo.square(8)"
     ], 
     "language": "python", 
     "outputs": [
      {
       "output_type": "pyout", 
       "prompt_number": 11, 
       "text": [
        "64"
       ]
      }
     ], 
     "prompt_number": 11
    }, 
    {
     "cell_type": "code", 
     "collapsed": false, 
     "input": [
      "reload(demo)", 
      "filename='animals.txt'"
     ], 
     "language": "python", 
     "outputs": [], 
     "prompt_number": 12
    }, 
    {
     "cell_type": "code", 
     "collapsed": true, 
     "input": [
      "f = open(filename, 'r')", 
      "date=[]", 
      "time=[]", 
      "animal=[]", 
      "number=[]", 
      "for line in f:", 
      "    d,t,a,n=line.split()", 
      "    date.append(d)", 
      "    time.append(t)", 
      "    animal.append(a)", 
      "    number.append(n)"
     ], 
     "language": "python", 
     "outputs": [], 
     "prompt_number": 13
    }, 
    {
     "cell_type": "code", 
     "collapsed": false, 
     "input": [
      "animal"
     ], 
     "language": "python", 
     "outputs": [
      {
       "output_type": "pyout", 
       "prompt_number": 14, 
       "text": [
        "['Grizzly', 'Elk', 'Elk', 'Wolverine', 'Muskox']"
       ]
      }
     ], 
     "prompt_number": 14
    }, 
    {
     "cell_type": "code", 
     "collapsed": false, 
     "input": [
      "import animals"
     ], 
     "language": "python", 
     "outputs": [], 
     "prompt_number": 16
    }, 
    {
     "cell_type": "code", 
     "collapsed": false, 
     "input": [
      "reload(animals)"
     ], 
     "language": "python", 
     "outputs": [
      {
       "output_type": "pyout", 
       "prompt_number": 33, 
       "text": [
        "<module 'animals' from 'animals.py'>"
       ]
      }
     ], 
     "prompt_number": 33
    }, 
    {
     "cell_type": "code", 
     "collapsed": true, 
     "input": [
      "d,t,a,n=animals.ranimals('animals.txt')"
     ], 
     "language": "python", 
     "outputs": [], 
     "prompt_number": 34
    }, 
    {
     "cell_type": "code", 
     "collapsed": false, 
     "input": [
      "a,n"
     ], 
     "language": "python", 
     "outputs": [
      {
       "output_type": "pyout", 
       "prompt_number": 36, 
       "text": [
        "(['Grizzly', 'Elk', 'Elk', 'Wolverine', 'Muskox'], [36, 25, 26, 31, 20])"
       ]
      }
     ], 
     "prompt_number": 36
    }, 
    {
     "cell_type": "code", 
     "collapsed": false, 
     "input": [
      "d,t,a,n"
     ], 
     "language": "python", 
     "outputs": [
      {
       "output_type": "pyout", 
       "prompt_number": 37, 
       "text": [
        "(['2011-04-22', '2011-04-23', '2011-04-23', '2011-04-23', '2011-04-23'],", 
        " ['21:06', '14:12', '10:24', '20:08', '18:46'],", 
        " ['Grizzly', 'Elk', 'Elk', 'Wolverine', 'Muskox'],", 
        " [36, 25, 26, 31, 20])"
       ]
      }
     ], 
     "prompt_number": 37
    }, 
    {
     "cell_type": "code", 
     "collapsed": true, 
     "input": [], 
     "language": "python", 
     "outputs": []
    }
   ]
  }
 ]
}